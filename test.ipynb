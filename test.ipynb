{
 "cells": [
  {
   "cell_type": "code",
   "execution_count": 1,
   "metadata": {},
   "outputs": [],
   "source": [
    "from pyspark import SparkConf, SparkContext"
   ]
  },
  {
   "cell_type": "code",
   "execution_count": 2,
   "metadata": {},
   "outputs": [],
   "source": [
    "config = SparkConf().setAppName(\"RDD cole learning\").setMaster(\"local[*]\")\n",
    "sc = SparkContext(conf=config) ##spark application"
   ]
  },
  {
   "cell_type": "code",
   "execution_count": 3,
   "metadata": {},
   "outputs": [],
   "source": [
    "#khoi tao RDD bang paralleize\n",
    "data = [1,2,3,4,5]\n",
    "dictData = sc.parallelize(data) ## This is RDD Data"
   ]
  },
  {
   "cell_type": "code",
   "execution_count": 18,
   "metadata": {},
   "outputs": [],
   "source": [
    "#Khoi tao RDD bang external dataset\n",
    "disFile = sc.textFile(\"dataset.txt\")"
   ]
  },
  {
   "cell_type": "code",
   "execution_count": 19,
   "metadata": {},
   "outputs": [
    {
     "name": "stdout",
     "output_type": "stream",
     "text": [
      "[11, 9]\n"
     ]
    }
   ],
   "source": [
    "lineLength = disFile.map(lambda x:len(x))\n",
    "result = lineLength.collect()\n",
    "print(result)"
   ]
  },
  {
   "cell_type": "code",
   "execution_count": null,
   "metadata": {},
   "outputs": [
    {
     "name": "stdout",
     "output_type": "stream",
     "text": [
      "totalLength 11\n"
     ]
    }
   ],
   "source": [
    "\n",
    "lineLength = disFile.map(lambda x:len(x))\n",
    "\n",
    "totalLength = lineLength.reduce(lambda a,b:a+b)\n",
    "print(\"totalLength {0}\".format(totalLength))"
   ]
  },
  {
   "cell_type": "code",
   "execution_count": 7,
   "metadata": {},
   "outputs": [
    {
     "name": "stdout",
     "output_type": "stream",
     "text": [
      "Hom nay toi co mot cau chuyen vui\n",
      "chuyen vui do la khong co cau chuyen vui nao ca\n"
     ]
    }
   ],
   "source": [
    "# Sử dụng collect để thu thập tất cả các phần tử trong RDD\n",
    "data = disFile.collect()\n",
    "\n",
    "# In ra từng dòng\n",
    "for line in data:\n",
    "    print(line)"
   ]
  }
 ],
 "metadata": {
  "kernelspec": {
   "display_name": "Python 3",
   "language": "python",
   "name": "python3"
  },
  "language_info": {
   "codemirror_mode": {
    "name": "ipython",
    "version": 3
   },
   "file_extension": ".py",
   "mimetype": "text/x-python",
   "name": "python",
   "nbconvert_exporter": "python",
   "pygments_lexer": "ipython3",
   "version": "3.10.11"
  }
 },
 "nbformat": 4,
 "nbformat_minor": 2
}
